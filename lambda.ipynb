{
 "cells": [
  {
   "cell_type": "code",
   "execution_count": 2,
   "id": "38e2983f-3b8c-453a-97de-16d6ab2e38c4",
   "metadata": {},
   "outputs": [
    {
     "name": "stdout",
     "output_type": "stream",
     "text": [
      "03\n"
     ]
    }
   ],
   "source": [
    "test = lambda date : date.split('/')[1]\n",
    "date = '2020/03/10'\n",
    "print(test(date))"
   ]
  },
  {
   "cell_type": "code",
   "execution_count": 3,
   "id": "f5ca86f3-120d-44ae-82ef-199f9cc724f7",
   "metadata": {},
   "outputs": [
    {
     "data": {
      "text/plain": [
       "11"
      ]
     },
     "execution_count": 3,
     "metadata": {},
     "output_type": "execute_result"
    }
   ],
   "source": [
    "def somme (x,y):\n",
    "    return x+y\n",
    "s=lambda x,y:x+y\n",
    "s(5,6)"
   ]
  },
  {
   "cell_type": "code",
   "execution_count": 6,
   "id": "c038e03a-3e33-4dbd-a3aa-1d9a08acf7be",
   "metadata": {},
   "outputs": [
    {
     "data": {
      "text/plain": [
       "[5, 5, 4]"
      ]
     },
     "execution_count": 6,
     "metadata": {},
     "output_type": "execute_result"
    }
   ],
   "source": [
    "t1=(1,2,3)\n",
    "t2=(4,3,1)\n",
    "\n",
    "r=list(map(lambda x,y:x+y,t1,t2))\n",
    "r"
   ]
  },
  {
   "cell_type": "code",
   "execution_count": 9,
   "id": "504fa953-ec06-4971-9d6c-e2aa19daa96c",
   "metadata": {},
   "outputs": [
    {
     "name": "stdout",
     "output_type": "stream",
     "text": [
      "35\n"
     ]
    }
   ],
   "source": [
    "def maximum(x, y, z):\n",
    "    if (x >= y) and (x >= z):\n",
    "        largest = x\n",
    "    elif (y >= x) and (y >= z):\n",
    "        largest = b\n",
    "    else:\n",
    "        largest = z\n",
    "    return largest\n",
    "x = 20\n",
    "y = 35\n",
    "z = 19\n",
    "print(maximum(x, y, z))\n"
   ]
  },
  {
   "cell_type": "code",
   "execution_count": 16,
   "id": "01d25a84-b857-45b1-9de1-2f20c755c528",
   "metadata": {},
   "outputs": [
    {
     "data": {
      "text/plain": [
       "(7, 1)"
      ]
     },
     "execution_count": 16,
     "metadata": {},
     "output_type": "execute_result"
    }
   ],
   "source": [
    "def calculation(x,y):\n",
    "    return x+y,x-y\n",
    "calculation (4,3)"
   ]
  },
  {
   "cell_type": "code",
   "execution_count": 26,
   "id": "2ef8154d-7976-4d54-a2ed-e9bbdbbc06cf",
   "metadata": {},
   "outputs": [
    {
     "data": {
      "text/plain": [
       "11"
      ]
     },
     "execution_count": 26,
     "metadata": {},
     "output_type": "execute_result"
    }
   ],
   "source": [
    "l=[2,4,3,2]\n",
    "def somme_list(l): \n",
    "    s=0\n",
    "    for i in range(len(l)):\n",
    "        s=s+l[i]\n",
    "    return s\n",
    "somme_list(l)"
   ]
  },
  {
   "cell_type": "code",
   "execution_count": 30,
   "id": "333231df-516f-4f98-ad93-28d7666f9428",
   "metadata": {},
   "outputs": [
    {
     "data": {
      "text/plain": [
       "48"
      ]
     },
     "execution_count": 30,
     "metadata": {},
     "output_type": "execute_result"
    }
   ],
   "source": [
    "def multiple_list(l):\n",
    "    m=1\n",
    "    for i in range(len(l)):\n",
    "        m=m*l[i]\n",
    "    return m\n",
    "multiple_list(l)"
   ]
  },
  {
   "cell_type": "code",
   "execution_count": 39,
   "id": "c74f138a-3211-4ad1-b182-30765e24a82f",
   "metadata": {},
   "outputs": [
    {
     "data": {
      "text/plain": [
       "(5, 48)"
      ]
     },
     "execution_count": 39,
     "metadata": {},
     "output_type": "execute_result"
    }
   ],
   "source": [
    "l=[2,4,3,2]\n",
    "def somme_multi(l):\n",
    "    p=[]\n",
    "    T=[]\n",
    "    for i in range (len(l)):\n",
    "        if i%2==0:\n",
    "            p.append(l[i])\n",
    "        else:\n",
    "            T.append(l[i])\n",
    "    return somme_list(p), multiple_list(l)\n",
    "somme_multi(l)"
   ]
  },
  {
   "cell_type": "code",
   "execution_count": 34,
   "id": "2ce00d50-998e-406e-83d4-c30fdcba952e",
   "metadata": {},
   "outputs": [
    {
     "name": "stdin",
     "output_type": "stream",
     "text": [
      " green-red-yellow-black-white\n"
     ]
    },
    {
     "name": "stdout",
     "output_type": "stream",
     "text": [
      "black-green-red-white-yellow\n"
     ]
    }
   ],
   "source": [
    "items=[n for n in input().split('-')]\n",
    "items.sort()\n",
    "print('-'.join(items))"
   ]
  },
  {
   "cell_type": "code",
   "execution_count": 46,
   "id": "3fca7114-faf8-4946-bce6-f3e46721b30f",
   "metadata": {},
   "outputs": [
    {
     "name": "stdin",
     "output_type": "stream",
     "text": [
      "Provide D:  100,150,180\n"
     ]
    },
    {
     "name": "stdout",
     "output_type": "stream",
     "text": [
      "[18, 22, 24]\n"
     ]
    }
   ],
   "source": [
    "import math\n",
    "\n",
    "numbers = input(\"entrer une valeur: \")\n",
    "numbers = numbers.split(',')\n",
    "\n",
    "result_list = []\n",
    "for D in numbers:\n",
    "    Q = round(math.sqrt(2 * 50 * int(D) / 30))\n",
    "    result_list.append(Q)\n",
    "\n",
    "print(result_list)"
   ]
  },
  {
   "cell_type": "code",
   "execution_count": null,
   "id": "1fa7f5c8-df27-4c35-b371-8f418755c26b",
   "metadata": {},
   "outputs": [],
   "source": []
  }
 ],
 "metadata": {
  "kernelspec": {
   "display_name": "Python 3 (ipykernel)",
   "language": "python",
   "name": "python3"
  },
  "language_info": {
   "codemirror_mode": {
    "name": "ipython",
    "version": 3
   },
   "file_extension": ".py",
   "mimetype": "text/x-python",
   "name": "python",
   "nbconvert_exporter": "python",
   "pygments_lexer": "ipython3",
   "version": "3.9.7"
  }
 },
 "nbformat": 4,
 "nbformat_minor": 5
}
